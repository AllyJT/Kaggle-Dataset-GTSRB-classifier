{
 "cells": [
  {
   "cell_type": "markdown",
   "id": "2f98fb39",
   "metadata": {},
   "source": [
    "##### ### The University of Melbourne, School of Computing and Information Systems\n",
    "# COMP30027 Machine Learning, 2025 Semester 1\n",
    "\n",
    "## Project 2: Traffic Sign Prediction\n"
   ]
  },
  {
   "cell_type": "markdown",
   "id": "1e59c330",
   "metadata": {},
   "source": [
    "<h2>Read me</h2>\n",
    "\n",
    "+ Run the code below will give the final result for most of the report\n",
    "+ For SVM\n",
    "    + To have the graphs that have scaler, run the code that is being commented\n",
    "+ For Random Forest:\n",
    "    + Run the code that being commented for result without tuning"
   ]
  },
  {
   "cell_type": "markdown",
   "id": "4d0497ee",
   "metadata": {},
   "source": [
    "## Importing Data"
   ]
  },
  {
   "cell_type": "code",
   "execution_count": null,
   "id": "91a81793",
   "metadata": {},
   "outputs": [],
   "source": [
    "# Importing tools\n",
    "import pandas as pd\n",
    "# meta data\n",
    "train_df = pd.read_csv(\"./train/train_metadata.csv\")\n",
    "train_img_path = train_df['image_path']\n",
    "test_df = pd.read_csv(\"./test/test_metadata.csv\")\n",
    "Y_train = train_df['ClassId']"
   ]
  },
  {
   "cell_type": "code",
   "execution_count": null,
   "id": "477b966b",
   "metadata": {},
   "outputs": [],
   "source": [
    "train_df.head()"
   ]
  },
  {
   "cell_type": "code",
   "execution_count": null,
   "id": "2442f965",
   "metadata": {},
   "outputs": [],
   "source": [
    "len(test_df), len(train_df)"
   ]
  },
  {
   "cell_type": "markdown",
   "id": "60ff9280",
   "metadata": {},
   "source": [
    "## Prepocessing"
   ]
  },
  {
   "cell_type": "markdown",
   "id": "e0b6b163",
   "metadata": {},
   "source": [
    "#### Using OpenCV"
   ]
  },
  {
   "cell_type": "code",
   "execution_count": null,
   "id": "bf166a19",
   "metadata": {},
   "outputs": [],
   "source": [
    "import os\n",
    "import cv2\n",
    "import numpy as np"
   ]
  },
  {
   "cell_type": "code",
   "execution_count": null,
   "id": "1ec1eb5f",
   "metadata": {},
   "outputs": [],
   "source": [
    "# for SVM \n",
    "from sklearn.model_selection import train_test_split\n",
    "from sklearn.preprocessing import StandardScaler\n",
    "from sklearn.svm import SVC\n",
    "from sklearn.metrics import classification_report, accuracy_score"
   ]
  },
  {
   "cell_type": "code",
   "execution_count": null,
   "id": "262caca7",
   "metadata": {},
   "outputs": [],
   "source": [
    "import matplotlib.pyplot as plt\n",
    "import seaborn as sns\n",
    "from sklearn import metrics\n",
    "class_ids = sorted(train_df['ClassId'].unique())\n",
    "bins = np.arange(min(class_ids), max(class_ids) + 2)\n",
    "sns.histplot(train_df['ClassId'], bins=bins, color=\"crimson\")\n",
    "plt.title(\"Histogram of class ID\")\n",
    "plt.show()"
   ]
  },
  {
   "cell_type": "code",
   "execution_count": null,
   "id": "cf72ada8",
   "metadata": {},
   "outputs": [],
   "source": [
    "from sklearn.metrics import make_scorer, precision_score, recall_score, f1_score\n",
    "scoring = {\n",
    "    'accuracy': 'accuracy',\n",
    "    'precision_macro': make_scorer(precision_score, average='macro', zero_division=0),\n",
    "    'recall_macro': make_scorer(recall_score, average='macro', zero_division=0),\n",
    "    'f1_macro': make_scorer(f1_score, average='macro', zero_division=0)\n",
    "}"
   ]
  },
  {
   "cell_type": "code",
   "execution_count": null,
   "id": "b055abfa",
   "metadata": {},
   "outputs": [],
   "source": [
    "# for SVM tuning\n",
    "C_values = [0.1, 1, 10, 50]"
   ]
  },
  {
   "cell_type": "code",
   "execution_count": null,
   "id": "0ee3c4cb",
   "metadata": {},
   "outputs": [],
   "source": [
    "from sklearn.pipeline import make_pipeline\n",
    "from sklearn.preprocessing import StandardScaler\n",
    "from sklearn.svm import SVC\n",
    "from sklearn.model_selection import StratifiedKFold, cross_val_score, cross_val_predict, cross_validate\n",
    "from sklearn.neighbors import KNeighborsClassifier\n",
    "\n",
    "# cross-validation\n",
    "skf = StratifiedKFold(n_splits=2)"
   ]
  },
  {
   "cell_type": "markdown",
   "id": "f5c9b5f7",
   "metadata": {},
   "source": [
    "## My own HOG dataset"
   ]
  },
  {
   "cell_type": "code",
   "execution_count": null,
   "id": "ced43709",
   "metadata": {},
   "outputs": [],
   "source": [
    "hog = cv2.HOGDescriptor()\n",
    "IMAGE_SIZE = (64, 128)\n",
    "\n",
    "def extract_feature(img_path):\n",
    "    image = cv2.imread(img_path)\n",
    "    image = cv2.resize(image,IMAGE_SIZE)\n",
    "    return hog.compute(image).flatten()\n",
    "features = []\n",
    "sign_class = []\n",
    "for _, row in train_df.iterrows():\n",
    "    img_path = os.path.join('./train/',row['image_path'])\n",
    "    feature = extract_feature(img_path)\n",
    "    if feature is not None:\n",
    "        features.append(feature)\n",
    "        sign_class.append(row['image_path'])\n",
    "\n",
    "X_hog = np.array(features)\n",
    "Y_hog = np.array(sign_class)"
   ]
  },
  {
   "cell_type": "markdown",
   "id": "e9366bc1",
   "metadata": {},
   "source": [
    "### using SVM model"
   ]
  },
  {
   "cell_type": "code",
   "execution_count": null,
   "id": "9b18fa62",
   "metadata": {},
   "outputs": [],
   "source": [
    "# train the svm\n",
    "model = make_pipeline(StandardScaler(), SVC(kernel='rbf', C=10, gamma='scale'))\n",
    "scores = cross_validate(model, X_hog, Y_train, cv=skf, scoring=scoring)"
   ]
  },
  {
   "cell_type": "code",
   "execution_count": null,
   "id": "00fdeea4",
   "metadata": {},
   "outputs": [],
   "source": [
    "print(\"Cross-validation scores:\", scores)\n",
    "\n",
    "print(\"Accuracy:\", round(scores['test_accuracy'].mean(), 3))\n",
    "print(\"Precision (macro):\", round(scores['test_precision_macro'].mean(), 3))\n",
    "print(\"Recall (macro):\", round(scores['test_recall_macro'].mean(), 3))\n",
    "print(\"F1 Score (macro):\", round(scores['test_f1_macro'].mean(), 3))"
   ]
  },
  {
   "cell_type": "markdown",
   "id": "af0bb9e7",
   "metadata": {},
   "source": [
    "##### Testset SVM HOG"
   ]
  },
  {
   "cell_type": "code",
   "execution_count": null,
   "id": "8ff205c2",
   "metadata": {},
   "outputs": [],
   "source": [
    "# making test dataset\n",
    "test_X_feat = []\n",
    "for _, row in test_df.iterrows():\n",
    "    img_path = os.path.join('./test/',row['image_path'])\n",
    "    feature = extract_feature(img_path)\n",
    "    if feature is not None:\n",
    "        test_X_feat.append(feature)\n",
    "\n",
    "X_test_hog= np.array(test_X_feat)\n",
    "model.fit(X_hog, Y_train)\n",
    "\n",
    "y_test_pred = model.predict(X_test_hog)\n",
    "test_df['ClassId'] = y_test_pred\n",
    "test_df.to_csv('./test/test_metadata_HOG_SVM.csv', index=False)"
   ]
  },
  {
   "cell_type": "markdown",
   "id": "eae1ef6d",
   "metadata": {},
   "source": [
    "#### confusion matrix svm hog"
   ]
  },
  {
   "cell_type": "code",
   "execution_count": null,
   "id": "1c5c1ee1",
   "metadata": {},
   "outputs": [],
   "source": [
    "## confusion matrix\n",
    "y_pred = cross_val_predict(model, X_hog, Y_train, cv=skf)\n",
    "cm = metrics.confusion_matrix(Y_train, y_pred)\n",
    "\n",
    "fig, ax = plt.subplots(figsize=(20, 20))\n",
    "disp = metrics.ConfusionMatrixDisplay(confusion_matrix=cm)\n",
    "disp.plot(ax=ax, xticks_rotation=90)\n",
    "\n",
    "plt.title(\"Confusion Matrix\")\n",
    "plt.tight_layout()\n",
    "plt.show()"
   ]
  },
  {
   "cell_type": "code",
   "execution_count": null,
   "id": "33272766",
   "metadata": {},
   "outputs": [],
   "source": [
    "# Split data once (e.g., 80% train, 20% test)\n",
    "X_train, X_test, y_train, y_test = train_test_split(X_hog, Y_train, test_size=0.2, stratify=Y_train)\n",
    "mean_scores = []\n",
    "\n",
    "# No need for parallel_backend here since we're not cross-validating\n",
    "for C in C_values:\n",
    "    model = make_pipeline(\n",
    "        StandardScaler(),\n",
    "        SVC(kernel='rbf', C=C, gamma='scale', class_weight='balanced')\n",
    "    )\n",
    "    model.fit(X_train, y_train)\n",
    "    y_pred = model.predict(X_test)\n",
    "    accuracy = accuracy_score(y_test, y_pred)\n",
    "    mean_scores.append(accuracy)\n",
    "\n",
    "# Plotting\n",
    "plt.figure(figsize=(10, 5))\n",
    "plt.plot(C_values, mean_scores, marker='o', color='green')\n",
    "plt.xscale('log')\n",
    "plt.xlabel('C (Regularization Parameter)')\n",
    "plt.ylabel('Test Accuracy')\n",
    "plt.title('Effect of C on SVM Performance (Train/Test Split)')\n",
    "plt.grid(True)\n",
    "plt.show()"
   ]
  },
  {
   "cell_type": "markdown",
   "id": "79ee2c10",
   "metadata": {},
   "source": [
    "### using random forest model"
   ]
  },
  {
   "cell_type": "code",
   "execution_count": null,
   "id": "5405dde4",
   "metadata": {},
   "outputs": [],
   "source": [
    "from sklearn.ensemble import RandomForestClassifier\n",
    "\n",
    "\n",
    "rf_hog = make_pipeline(RandomForestClassifier())\n",
    "scores = cross_validate(rf_hog, X_hog, Y_train, cv = skf, scoring=scoring)"
   ]
  },
  {
   "cell_type": "code",
   "execution_count": null,
   "id": "7016b773",
   "metadata": {},
   "outputs": [],
   "source": [
    "print(\"Accuracy:\", round(scores['test_accuracy'].mean(), 3))\n",
    "print(\"Precision (macro):\", round(scores['test_precision_macro'].mean(), 3))\n",
    "print(\"Recall (macro):\", round(scores['test_recall_macro'].mean(), 3))\n",
    "print(\"F1 Score (macro):\", round(scores['test_f1_macro'].mean(), 3))"
   ]
  },
  {
   "cell_type": "markdown",
   "id": "440bd362",
   "metadata": {},
   "source": [
    "##### test set RF"
   ]
  },
  {
   "cell_type": "code",
   "execution_count": null,
   "id": "b63f0ed0",
   "metadata": {},
   "outputs": [],
   "source": [
    "rf_hog.fit(X_hog, Y_train)\n",
    "y_test_pred = model.predict(X_test_hog)\n",
    "test_df['ClassId'] = y_test_pred\n",
    "test_df.to_csv('./test/test_metadata_RF_HOG.csv', index=False)"
   ]
  },
  {
   "cell_type": "markdown",
   "id": "c8758d6d",
   "metadata": {},
   "source": [
    "#### Confusion matrix for random forest"
   ]
  },
  {
   "cell_type": "code",
   "execution_count": null,
   "id": "5cd8b690",
   "metadata": {},
   "outputs": [],
   "source": [
    "y_pred = cross_val_predict(rf_hog, X_hog, Y_train, cv=skf)\n",
    "cm = metrics.confusion_matrix(Y_train, y_pred)"
   ]
  },
  {
   "cell_type": "code",
   "execution_count": null,
   "id": "d27224c8",
   "metadata": {},
   "outputs": [],
   "source": [
    "# confusion matrix\n",
    "fig, ax = plt.subplots(figsize=(20, 20))\n",
    "disp = metrics.ConfusionMatrixDisplay(confusion_matrix=cm)\n",
    "disp.plot(ax=ax, xticks_rotation=90)\n",
    "\n",
    "plt.title(\"Random Forest Confusion Matrix on HOG dataset \")\n",
    "plt.tight_layout()\n",
    "plt.show()"
   ]
  },
  {
   "cell_type": "code",
   "execution_count": null,
   "id": "744ce44f",
   "metadata": {},
   "outputs": [],
   "source": [
    "\n",
    "rf_hog.fit(X_hog, Y_train)"
   ]
  },
  {
   "cell_type": "code",
   "execution_count": null,
   "id": "bfd86cc7",
   "metadata": {},
   "outputs": [],
   "source": [
    "\n",
    "y_test_pred = rf_hog.predict(X_test_hog)\n",
    "test_df['ClassId'] = y_test_pred\n",
    "test_df.to_csv('./test/test_metadata_HOG_RF.csv', index=False)"
   ]
  },
  {
   "cell_type": "markdown",
   "id": "f510de49",
   "metadata": {},
   "source": [
    "## HOG_PCA data set"
   ]
  },
  {
   "cell_type": "code",
   "execution_count": null,
   "id": "57dc212f",
   "metadata": {},
   "outputs": [],
   "source": [
    "# test for HOG_PCA\n",
    "X_hog_test = pd.read_csv('./test/Features/hog_pca.csv')\n",
    "X_hog_test = X_hog_test.drop(columns=['image_path'])"
   ]
  },
  {
   "cell_type": "markdown",
   "id": "5af6f2a8",
   "metadata": {},
   "source": [
    "### SVM model"
   ]
  },
  {
   "cell_type": "code",
   "execution_count": null,
   "id": "6df48d9d",
   "metadata": {},
   "outputs": [],
   "source": [
    "\n",
    "# read dataframe\n",
    "# making training dataset\n",
    "X_hog_train = pd.read_csv('./train/Features/hog_pca.csv')\n",
    "X_hog_train = X_hog_train.drop(columns=['image_path'])\n"
   ]
  },
  {
   "cell_type": "code",
   "execution_count": null,
   "id": "3af6341c",
   "metadata": {},
   "outputs": [],
   "source": [
    "# making model for svm on hog_pca\n",
    "SVM_HOG_PCA = make_pipeline( SVC(kernel='rbf', C=10, gamma='scale'))\n",
    "# SVM_HOG_PCA = make_pipeline(StandardScaler(), SVC(kernel='rbf', C=10, gamma='scale'))\n",
    "scores = cross_validate(SVM_HOG_PCA, X_hog_train, Y_train, cv=skf, scoring=scoring)"
   ]
  },
  {
   "cell_type": "code",
   "execution_count": null,
   "id": "a2f08d35",
   "metadata": {},
   "outputs": [],
   "source": [
    "print(scores['test_accuracy'])\n",
    "print(\"Accuracy:\", round(scores['test_accuracy'].mean(), 3))\n",
    "print(\"Precision (macro):\", round(scores['test_precision_macro'].mean(), 3))\n",
    "print(\"Recall (macro):\", round(scores['test_recall_macro'].mean(), 3))\n",
    "print(\"F1 Score (macro):\", round(scores['test_f1_macro'].mean(), 3))"
   ]
  },
  {
   "cell_type": "code",
   "execution_count": null,
   "id": "89fb1f9f",
   "metadata": {},
   "outputs": [],
   "source": [
    "# Confusion matrix \n",
    "y_pred = cross_val_predict(SVM_HOG_PCA, X_hog_train, Y_train, cv=skf)\n",
    "cm = metrics.confusion_matrix(Y_train, y_pred)"
   ]
  },
  {
   "cell_type": "code",
   "execution_count": null,
   "id": "bfe6adc5",
   "metadata": {},
   "outputs": [],
   "source": [
    "fig, ax = plt.subplots(figsize=(20, 20))\n",
    "disp = metrics.ConfusionMatrixDisplay(confusion_matrix=cm)\n",
    "disp.plot(ax=ax, xticks_rotation=90)\n",
    "plt.title(\"SVM Confusion Matrix on the provided HOG_PCA dataset \")\n",
    "plt.tight_layout()\n",
    "plt.show()"
   ]
  },
  {
   "cell_type": "code",
   "execution_count": null,
   "id": "85a1e8d0",
   "metadata": {},
   "outputs": [],
   "source": [
    "mean_scores = []\n",
    "for C in C_values:\n",
    "    model = make_pipeline(SVC(kernel='rbf', C=C, gamma='scale', class_weight='balanced'))\n",
    "    scores = cross_val_score(model, X_hog_train, Y_train, cv=skf, scoring='accuracy')\n",
    "    mean_scores.append(scores.mean())\n",
    "\n",
    "## Run the code below for SVC with scaler\n",
    "# for C in C_values:\n",
    "#     model = make_pipeline(StandardScaler(),SVC(kernel='rbf', C=C, gamma='scale', class_weight='balanced'))\n",
    "#     scores = cross_val_score(model, X_hog_train, Y_train, cv=skf, scoring='accuracy')\n",
    "#     mean_scores.append(scores.mean())\n",
    "\n",
    "# Plotting\n",
    "plt.figure(figsize=(10, 5))\n",
    "plt.plot(C_values, mean_scores, marker='o', color = 'orange')\n",
    "plt.xscale('log')\n",
    "plt.xlabel('C (Regularization Parameter)')\n",
    "plt.ylabel('Cross-Validated Accuracy')\n",
    "plt.title('Effect of C on SVM Performance on HOG_PCA')\n",
    "plt.grid(True)\n",
    "plt.show()"
   ]
  },
  {
   "cell_type": "markdown",
   "id": "307ceef7",
   "metadata": {},
   "source": [
    "#### Test set SVM HOG_PCA"
   ]
  },
  {
   "cell_type": "code",
   "execution_count": null,
   "id": "cc6a2559",
   "metadata": {},
   "outputs": [],
   "source": [
    "# train on the full dataset\n",
    "SVM_HOG_PCA.fit(X_hog_train, Y_train)\n",
    "y_test_pred = SVM_HOG_PCA.predict(X_hog_test)\n",
    "test_df['ClassId'] = y_test_pred\n",
    "test_df.to_csv('./test/test_metadata_HOG_PCA_SVM.csv', index=False)"
   ]
  },
  {
   "cell_type": "markdown",
   "id": "e7e62cc3",
   "metadata": {},
   "source": [
    "### KNN on HOG_PCA"
   ]
  },
  {
   "cell_type": "code",
   "execution_count": null,
   "id": "f5e45d23",
   "metadata": {},
   "outputs": [],
   "source": [
    "neighbors = np.arange(1, 10)\n",
    "train_accuracy = np.empty(len(neighbors))\n",
    "# Loop over K values\n",
    "for i, k in enumerate(neighbors):\n",
    "    knn = KNeighborsClassifier(n_neighbors=k)\n",
    "    knn.fit(X_hog_train, Y_train)\n",
    "    \n",
    "    # Compute training and test data accuracy\n",
    "    train_accuracy[i] = cross_val_score(knn, X_hog_train, Y_train, cv = skf).mean()\n",
    "\n",
    "plt.plot(neighbors, train_accuracy, label = 'Training dataset Accuracy', color = 'crimson')\n",
    "plt.title(\"Training dataset Accuracy vs n-neigbors\")\n",
    "plt.legend()\n",
    "plt.xlabel('n_neighbors')\n",
    "plt.ylabel('Accuracy')\n",
    "plt.grid(True)\n",
    "plt.show()"
   ]
  },
  {
   "cell_type": "code",
   "execution_count": null,
   "id": "b52943f8",
   "metadata": {},
   "outputs": [],
   "source": [
    "knn_HOG_PCA = KNeighborsClassifier(n_neighbors=1)\n",
    "knn_HOG_PCA.fit(X_hog_train, Y_train)\n",
    "y_pred = cross_val_predict(knn_HOG_PCA, X_hog_train, Y_train, cv=skf)\n",
    "cm = metrics.confusion_matrix(Y_train, y_pred)\n",
    "fig, ax = plt.subplots(figsize=(20,20))\n",
    "disp = metrics.ConfusionMatrixDisplay(confusion_matrix=cm)\n",
    "disp.plot(ax=ax, xticks_rotation=90)\n",
    "plt.title(\"KNN Confusion Matrix on the provided HOG_PCA dataset \")\n",
    "plt.tight_layout()\n",
    "plt.show()"
   ]
  },
  {
   "cell_type": "code",
   "execution_count": null,
   "id": "f52099bb",
   "metadata": {},
   "outputs": [],
   "source": [
    "\n",
    "scores = cross_validate(knn_HOG_PCA, X_hog_train, Y_train, cv=skf, scoring=scoring)\n",
    "print(\"Accuracy:\", round(scores['test_accuracy'].mean(), 3))\n",
    "print(\"Precision (macro):\", round(scores['test_precision_macro'].mean(), 3))\n",
    "print(\"Recall (macro):\", round(scores['test_recall_macro'].mean(), 3))\n",
    "print(\"F1 Score (macro):\", round(scores['test_f1_macro'].mean(), 3))"
   ]
  },
  {
   "cell_type": "markdown",
   "id": "9f29152d",
   "metadata": {},
   "source": [
    "#### Test KNN HOG_PCA"
   ]
  },
  {
   "cell_type": "code",
   "execution_count": null,
   "id": "3ba45c4c",
   "metadata": {},
   "outputs": [],
   "source": [
    "knn_HOG_PCA.fit(X_hog_train, Y_train)\n",
    "y_test_pred = knn_HOG_PCA.predict(X_hog_test)\n",
    "test_df['ClassId'] = y_test_pred\n",
    "test_df.to_csv('./test/test_metadata_HOG_PCA_KNN.csv', index=False)"
   ]
  },
  {
   "cell_type": "markdown",
   "id": "43e85bb3",
   "metadata": {},
   "source": [
    "## COLOR dataset"
   ]
  },
  {
   "cell_type": "code",
   "execution_count": null,
   "id": "478feea1",
   "metadata": {},
   "outputs": [],
   "source": [
    "# test color\n",
    "X_color_test = pd.read_csv('./test/Features/color_histogram.csv')\n",
    "X_color_test = X_color_test.drop(columns=['image_path'])"
   ]
  },
  {
   "cell_type": "markdown",
   "id": "7db29aed",
   "metadata": {},
   "source": [
    "### SVM"
   ]
  },
  {
   "cell_type": "code",
   "execution_count": null,
   "id": "3c0db614",
   "metadata": {},
   "outputs": [],
   "source": [
    "X_color = pd.read_csv('./train/Features/color_histogram.csv')\n",
    "X_color = X_color.drop(columns=['image_path'])\n",
    "\n",
    "SVM_color = make_pipeline(SVC(kernel='rbf', C=100, gamma='scale', class_weight='balanced'))\n",
    "\n",
    "scores = cross_validate(SVM_color, X_color, Y_train, cv=skf, scoring=scoring)\n",
    "y_pred = cross_val_predict(SVM_color, X_color, Y_train, cv=skf)"
   ]
  },
  {
   "cell_type": "code",
   "execution_count": null,
   "id": "f7d10211",
   "metadata": {},
   "outputs": [],
   "source": [
    "print(\"Cross-validation scores:\", scores)\n",
    "print(\"Accuracy:\", round(scores['test_accuracy'].mean(), 3))\n",
    "print(\"Precision (macro):\", round(scores['test_precision_macro'].mean(), 3))\n",
    "print(\"Recall (macro):\", round(scores['test_recall_macro'].mean(), 3))\n",
    "print(\"F1 Score (macro):\", round(scores['test_f1_macro'].mean(), 3))"
   ]
  },
  {
   "cell_type": "code",
   "execution_count": null,
   "id": "c1b04acd",
   "metadata": {},
   "outputs": [],
   "source": [
    "mean_scores = []\n",
    "\n",
    "for C in C_values:\n",
    "    model = make_pipeline(SVC(kernel='rbf', C=C, gamma='scale', class_weight='balanced'))\n",
    "    scores = cross_val_score(model, X_color, Y_train, cv=skf, scoring='accuracy')\n",
    "    mean_scores.append(scores.mean())    \n",
    "# Plotting\n",
    "plt.figure(figsize=(10, 5))\n",
    "plt.plot(C_values, mean_scores, marker='o', color = 'crimson')\n",
    "plt.xscale('log')\n",
    "plt.xlabel('C (Regularization Parameter)')\n",
    "plt.ylabel('Cross-Validated Accuracy')\n",
    "plt.title('Effect of C on SVM Performance on color_dataset')\n",
    "plt.grid(True)\n",
    "plt.show()"
   ]
  },
  {
   "cell_type": "code",
   "execution_count": null,
   "id": "ad77ff84",
   "metadata": {},
   "outputs": [],
   "source": [
    "cm = metrics.confusion_matrix(Y_train, y_pred)\n",
    "\n",
    "fig, ax = plt.subplots(figsize=(20, 20))\n",
    "disp = metrics.ConfusionMatrixDisplay(confusion_matrix=cm)\n",
    "disp.plot(ax=ax, xticks_rotation=90)\n",
    "\n",
    "plt.title(\"Confusion Matrix for SVM on color_histogram\")\n",
    "plt.tight_layout()\n",
    "plt.show()"
   ]
  },
  {
   "cell_type": "markdown",
   "id": "57b19a40",
   "metadata": {},
   "source": [
    "### test svm color"
   ]
  },
  {
   "cell_type": "code",
   "execution_count": null,
   "id": "2617388d",
   "metadata": {},
   "outputs": [],
   "source": [
    "SVM_color.fit(X_color, Y_train)\n",
    "y_test_pred = SVM_color.predict(X_color_test)\n",
    "test_df['ClassId'] = y_test_pred\n",
    "test_df.to_csv('./test/test_metadata_Color_SVM.csv', index=False)"
   ]
  },
  {
   "cell_type": "markdown",
   "id": "95ecf13c",
   "metadata": {},
   "source": [
    "### KNN-classifier"
   ]
  },
  {
   "cell_type": "code",
   "execution_count": null,
   "id": "ca72a180",
   "metadata": {},
   "outputs": [],
   "source": [
    "\n",
    "KNN_Color = KNeighborsClassifier(n_neighbors=1)\n",
    "KNN_Color.fit(X_color, Y_train)\n",
    "scores = cross_validate(KNN_Color,X_color, Y_train, cv=skf, scoring=scoring)"
   ]
  },
  {
   "cell_type": "code",
   "execution_count": null,
   "id": "ae120ceb",
   "metadata": {},
   "outputs": [],
   "source": [
    "print(\"Accuracy:\", round(scores['test_accuracy'].mean(), 3))\n",
    "print(\"Precision (macro):\", round(scores['test_precision_macro'].mean(), 3))\n",
    "print(\"Recall (macro):\", round(scores['test_recall_macro'].mean(), 3))\n",
    "print(\"F1 Score (macro):\", round(scores['test_f1_macro'].mean(), 3))"
   ]
  },
  {
   "cell_type": "code",
   "execution_count": null,
   "id": "368d124c",
   "metadata": {},
   "outputs": [],
   "source": [
    "y_pred = cross_val_predict(KNN_Color, X_color, Y_train, cv=skf)\n",
    "cm = metrics.confusion_matrix(Y_train, y_pred)\n",
    "fig, ax = plt.subplots(figsize=(20, 20))\n",
    "disp = metrics.ConfusionMatrixDisplay(confusion_matrix=cm)\n",
    "disp.plot(ax=ax, xticks_rotation=90)\n",
    "plt.title(\"KNN Confusion Matrix on the provided color histogram \")\n",
    "plt.tight_layout()\n",
    "plt.show()"
   ]
  },
  {
   "cell_type": "code",
   "execution_count": null,
   "id": "7d866c4f",
   "metadata": {},
   "outputs": [],
   "source": [
    "\n",
    "\n",
    "neighbors = np.arange(1, 10)\n",
    "train_accuracy = np.empty(len(neighbors))\n",
    "# Loop over K values\n",
    "for i, k in enumerate(neighbors):\n",
    "    knn = KNeighborsClassifier(n_neighbors=k)\n",
    "    knn.fit(X_color, Y_train)\n",
    "    \n",
    "    # Compute training and test data accuracy\n",
    "    train_accuracy[i] = cross_val_score(knn, X_color, Y_train, cv = skf).mean()\n",
    "\n",
    "plt.plot(neighbors, train_accuracy, label = 'Training dataset Accuracy', color = 'crimson')\n",
    "plt.title(\"Training dataset Accuracy vs n-neigbors\")\n",
    "plt.legend()\n",
    "plt.xlabel('n_neighbors')\n",
    "plt.ylabel('Accuracy')\n",
    "plt.grid(True)\n",
    "plt.show()"
   ]
  },
  {
   "cell_type": "code",
   "execution_count": null,
   "id": "ae487385",
   "metadata": {},
   "outputs": [],
   "source": [
    "KNN_Color.fit(X_color, Y_train)\n",
    "y_test_pred = KNN_Color.predict(X_color_test)\n",
    "test_df['ClassId'] = y_test_pred\n",
    "test_df.to_csv('./test/test_metadata_KNN_Color.csv', index=False)"
   ]
  },
  {
   "cell_type": "markdown",
   "id": "521a9758",
   "metadata": {},
   "source": [
    "### Random forest on color histogram"
   ]
  },
  {
   "cell_type": "code",
   "execution_count": null,
   "id": "5b37f8a1",
   "metadata": {},
   "outputs": [],
   "source": [
    "rf_color= make_pipeline(RandomForestClassifier(random_state=43, min_samples_leaf=1, min_samples_split=2, n_estimators=200))\n",
    "# # run the code below for standar rf color mode\n",
    "# rf_color= make_pipeline(RandomForestClassifier(random_state=43))\n",
    "\n",
    "rf_color_scores = cross_validate(rf_color, X_color, Y_train, cv = skf, scoring=scoring)\n"
   ]
  },
  {
   "cell_type": "code",
   "execution_count": null,
   "id": "5d0db08a",
   "metadata": {},
   "outputs": [],
   "source": [
    "print(\"Accuracy:\", round(rf_color_scores['test_accuracy'].mean(), 3))\n",
    "print(\"Precision (macro):\", round(rf_color_scores['test_precision_macro'].mean(), 3))\n",
    "print(\"Recall (macro):\", round(rf_color_scores['test_recall_macro'].mean(), 3))\n",
    "print(\"F1 Score (macro):\", round(rf_color_scores['test_f1_macro'].mean(), 3))"
   ]
  },
  {
   "cell_type": "code",
   "execution_count": null,
   "id": "62533d01",
   "metadata": {},
   "outputs": [],
   "source": [
    "y_pred = cross_val_predict(rf_color, X_color, Y_train, cv=skf)\n",
    "cm = metrics.confusion_matrix(Y_train, y_pred)\n",
    "fig, ax = plt.subplots(figsize=(20, 20))\n",
    "disp = metrics.ConfusionMatrixDisplay(confusion_matrix=cm)\n",
    "disp.plot(ax=ax, xticks_rotation=90)\n",
    "plt.title(\"Random Forest Confusion Matrix on the provided color histogram \")\n",
    "plt.tight_layout()\n",
    "plt.show()"
   ]
  },
  {
   "cell_type": "code",
   "execution_count": null,
   "id": "be96b97e",
   "metadata": {},
   "outputs": [],
   "source": [
    "from sklearn.model_selection import GridSearchCV\n",
    "pipeline = make_pipeline(RandomForestClassifier(random_state=42))\n",
    "param_grid = {\n",
    "    'randomforestclassifier__n_estimators': [50, 100, 200],\n",
    "    'randomforestclassifier__min_samples_split': [2, 5, 10],\n",
    "    'randomforestclassifier__min_samples_leaf': [1, 2, 4],\n",
    "}\n",
    "grid_search = GridSearchCV(\n",
    "    estimator=pipeline,\n",
    "    param_grid=param_grid,\n",
    "    cv=2,\n",
    "    scoring='accuracy',\n",
    "    verbose=2,\n",
    "    n_jobs=-1\n",
    ")\n",
    "grid_search.fit(X_color, Y_train)\n",
    "print(\"Best Hyperparameters:\", grid_search.best_params_)\n",
    "print(\"Best F1 Score:\", grid_search.best_score_)"
   ]
  },
  {
   "cell_type": "markdown",
   "id": "71af2e75",
   "metadata": {},
   "source": [
    "### rf color testing"
   ]
  },
  {
   "cell_type": "code",
   "execution_count": null,
   "id": "332502fe",
   "metadata": {},
   "outputs": [],
   "source": [
    "\n",
    "rf_color.fit(X_color, Y_train)\n",
    "y_test_pred = rf_color.predict(X_color_test)\n",
    "test_df['ClassId'] = y_test_pred\n",
    "test_df.to_csv('./test/test_metadata_Color_RF.csv', index=False)"
   ]
  },
  {
   "cell_type": "markdown",
   "id": "83c2b486",
   "metadata": {},
   "source": [
    "## HOG_PCA Random forest"
   ]
  },
  {
   "cell_type": "code",
   "execution_count": null,
   "id": "0a41eb28",
   "metadata": {},
   "outputs": [],
   "source": [
    "from sklearn.ensemble import RandomForestClassifier\n",
    "\n",
    "\n",
    "rf_HOG_PCA = make_pipeline(RandomForestClassifier(random_state=43,min_samples_leaf=1, min_samples_split=2, n_estimators=200))\n",
    "\n",
    "## run the code below for default setting\n",
    "# rf_HOG_PCA = make_pipeline(RandomForestClassifier(random_state=43))\n",
    "\n",
    "scores = cross_validate(rf_HOG_PCA, X_hog_train, Y_train, cv=skf, scoring=scoring)\n",
    "print(\"Accuracy:\", round(scores['test_accuracy'].mean(), 3))\n",
    "print(\"Precision (macro):\", round(scores['test_precision_macro'].mean(), 3))\n",
    "print(\"Recall (macro):\", round(scores['test_recall_macro'].mean(), 3))\n",
    "print(\"F1 Score (macro):\", round(scores['test_f1_macro'].mean(), 3))"
   ]
  },
  {
   "cell_type": "code",
   "execution_count": null,
   "id": "ced97f53",
   "metadata": {},
   "outputs": [],
   "source": [
    "## confusion matrix\n",
    "y_pred = cross_val_predict(rf_HOG_PCA, X_hog_train, Y_train, cv=skf)\n",
    "cm = metrics.confusion_matrix(Y_train, y_pred)\n",
    "fig, ax = plt.subplots(figsize=(81,20))\n",
    "disp = metrics.ConfusionMatrixDisplay(confusion_matrix=cm)\n",
    "disp.plot(ax=ax, xticks_rotation=90)\n",
    "plt.title(\"Random forest Confusion Matrix on the provided HOG_PCA dataset \")\n",
    "plt.tight_layout()\n",
    "plt.show()"
   ]
  },
  {
   "cell_type": "code",
   "execution_count": null,
   "id": "0718f4bf",
   "metadata": {},
   "outputs": [],
   "source": [
    "from sklearn.model_selection import GridSearchCV\n",
    "pipeline = make_pipeline(RandomForestClassifier(random_state=42))\n",
    "param_grid = {\n",
    "    'randomforestclassifier__n_estimators': [50, 100, 200],\n",
    "    'randomforestclassifier__min_samples_split': [2, 5, 10],\n",
    "    'randomforestclassifier__min_samples_leaf': [1, 2, 4],\n",
    "}\n",
    "grid_search = GridSearchCV(\n",
    "    estimator=pipeline,\n",
    "    param_grid=param_grid,\n",
    "    cv=2,\n",
    "    scoring='accuracy',\n",
    "    verbose=2,\n",
    "    n_jobs=-1\n",
    ")\n",
    "grid_search.fit(X_hog_train, Y_train)\n",
    "print(\"Best Hyperparameters:\", grid_search.best_params_)\n",
    "print(\"Best F1 Score:\", grid_search.best_score_)"
   ]
  },
  {
   "cell_type": "markdown",
   "id": "8df7936b",
   "metadata": {},
   "source": [
    "#### test HOG_PCA RF"
   ]
  },
  {
   "cell_type": "code",
   "execution_count": null,
   "id": "5699ba16",
   "metadata": {},
   "outputs": [],
   "source": [
    "\n",
    "rf_HOG_PCA.fit(X_hog_train, Y_train)\n",
    "y_test_pred = rf_HOG_PCA.predict(X_hog_test)\n",
    "test_df['ClassId'] = y_test_pred\n",
    "test_df.to_csv('./test/test_metadata_HOG_PCA_RF.csv', index=False)"
   ]
  }
 ],
 "metadata": {
  "kernelspec": {
   "display_name": "base",
   "language": "python",
   "name": "python3"
  },
  "language_info": {
   "codemirror_mode": {
    "name": "ipython",
    "version": 3
   },
   "file_extension": ".py",
   "mimetype": "text/x-python",
   "name": "python",
   "nbconvert_exporter": "python",
   "pygments_lexer": "ipython3",
   "version": "3.12.7"
  }
 },
 "nbformat": 4,
 "nbformat_minor": 5
}
